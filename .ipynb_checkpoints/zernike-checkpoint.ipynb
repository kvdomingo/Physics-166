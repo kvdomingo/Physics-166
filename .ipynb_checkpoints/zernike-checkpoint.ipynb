{
 "cells": [
  {
   "cell_type": "code",
   "execution_count": 72,
   "metadata": {
    "ExecuteTime": {
     "end_time": "2019-01-31T05:13:26.018297Z",
     "start_time": "2019-01-31T05:13:22.692611Z"
    }
   },
   "outputs": [],
   "source": [
    "import numpy as np\n",
    "import numpy.random as rd\n",
    "import matplotlib as mpl\n",
    "import matplotlib.pyplot as mp\n",
    "from mpl_toolkits.mplot3d import Axes3D\n",
    "import scipy.special as spec\n",
    "from jupyterthemes import jtplot"
   ]
  },
  {
   "cell_type": "code",
   "execution_count": 24,
   "metadata": {
    "ExecuteTime": {
     "end_time": "2019-01-31T04:35:54.238496Z",
     "start_time": "2019-01-31T04:35:54.230457Z"
    }
   },
   "outputs": [],
   "source": [
    "jtplot.reset()\n",
    "mp.rcParams[\"text.usetex\"] = True\n",
    "mp.rcParams[\"font.family\"] = \"serif\"\n",
    "mp.rcParams[\"figure.figsize\"] = (5,5)\n",
    "mp.rcParams[\"figure.dpi\"] = 100"
   ]
  },
  {
   "cell_type": "code",
   "execution_count": 224,
   "metadata": {
    "ExecuteTime": {
     "end_time": "2019-01-31T06:45:51.769304Z",
     "start_time": "2019-01-31T06:45:51.749128Z"
    }
   },
   "outputs": [],
   "source": [
    "def factorial(n):\n",
    "    return spec.gamma(n+1)\n",
    "\n",
    "def Rnm(n, m, r):\n",
    "    if (n - m == 0) or ((n-m)%2 == 0):\n",
    "        if n - m == 0:\n",
    "            m *= -1\n",
    "        suma = 0\n",
    "        for k in range((n-m)//2):\n",
    "            num = (-1)**k * factorial(n-k) * r**((n - 2*k))\n",
    "            den = factorial(k) * factorial(1/2*(n+m) - k) * factorial(1/2*(n-m) - k)\n",
    "            suma += num/den\n",
    "        return suma\n",
    "    else:\n",
    "        return np.zeros_like(x)\n",
    "\n",
    "def Znm(n, m, r, phi):\n",
    "    R = Rnm(n, m, r)\n",
    "    if m > 0:\n",
    "        return R*np.sin(m*phi)\n",
    "    elif m < 0:\n",
    "        return R*np.cos(m*phi)\n",
    "    else:\n",
    "        return R\n",
    "    \n",
    "def ZernikePlot(n, m, res=500, cm=\"RdYlGn\", save=False, plotname=None, **viewargs):\n",
    "    r = np.linspace(1e-12, 1, res)\n",
    "    phi = np.linspace(0, 2*np.pi, res)\n",
    "    R, Phi = np.meshgrid(r, phi)\n",
    "    X,Y = R*np.cos(Phi), R*np.sin(Phi)\n",
    "    Z = Znm(n, m, R, Phi)\n",
    "    \n",
    "    fig = mp.figure(figsize=(5*2, 5))\n",
    "    ax = fig.add_subplot(121, projection=\"3d\")\n",
    "    ax.view_init(**viewargs)\n",
    "    ax.plot_surface(X, Y, Z, cmap=cm, rstride=3, cstride=3, lw=1, antialiased=True)\n",
    "    ax.set_xlabel(\"$x$\")\n",
    "    ax.set_ylabel(\"$y$\")\n",
    "    ax.set_zlabel(\"$z$\")\n",
    "    \n",
    "    ax = fig.add_subplot(122)\n",
    "    ax.contourf(X, Y, Z, levels=np.linspace(-1,1,res), cmap=cm, antialiased=True)\n",
    "    ax.set_xlabel(\"$x$\")\n",
    "    ax.set_ylabel(\"$y$\")\n",
    "    \n",
    "    mp.suptitle(\"$Z_{%i}^{%i}$\"%(n,m), fontsize=14)\n",
    "    \n",
    "    if save:\n",
    "        savename = \"Z\" + str(n) + str(m) + str(plotname) + \".png\"\n",
    "        mp.savefig(savename, dpi=300, bbox_inches=\"tight\")\n",
    "        \n",
    "    mp.show()"
   ]
  },
  {
   "cell_type": "code",
   "execution_count": 228,
   "metadata": {
    "ExecuteTime": {
     "end_time": "2019-01-31T06:50:08.714581Z",
     "start_time": "2019-01-31T06:50:08.686359Z"
    }
   },
   "outputs": [
    {
     "data": {
      "text/plain": [
       "15"
      ]
     },
     "execution_count": 228,
     "metadata": {},
     "output_type": "execute_result"
    }
   ],
   "source": [
    "nlist = [0, 1, 1, 2, 2, 2, 3, 3, 3, 3, 4, 4, 4, 4, 4]\n",
    "mlist = [0, -1, 1, -2, 0, 2, -3, -1, 1, 3, -4, -2, 0, 2, 4]\n",
    "namelist = [\"piston\", \"tiltx\", \"tilty\", \"astigmatism45\", \"defocussing\", \\\n",
    "            \"astigmatism0\", \"trefoil30\", \"comax\", \"comay\", \"trefoil0\", \\\n",
    "           \"foursheet225\", \"secondaryastigmatism\", \"sphericalaberration\", \\\n",
    "           \"secondaryastigmatism\", \"foursheet0\"]\n"
   ]
  },
  {
   "cell_type": "code",
   "execution_count": null,
   "metadata": {},
   "outputs": [],
   "source": [
    "ZernikePlot(5, -5, elev=30, azim=30)"
   ]
  }
 ],
 "metadata": {
  "kernelspec": {
   "display_name": "Python 3",
   "language": "python",
   "name": "python3"
  },
  "language_info": {
   "codemirror_mode": {
    "name": "ipython",
    "version": 3
   },
   "file_extension": ".py",
   "mimetype": "text/x-python",
   "name": "python",
   "nbconvert_exporter": "python",
   "pygments_lexer": "ipython3",
   "version": "3.6.8"
  },
  "latex_envs": {
   "LaTeX_envs_menu_present": true,
   "autoclose": true,
   "autocomplete": true,
   "bibliofile": "biblio.bib",
   "cite_by": "apalike",
   "current_citInitial": 1,
   "eqLabelWithNumbers": true,
   "eqNumInitial": 1,
   "hotkeys": {
    "equation": "Ctrl-E",
    "itemize": "Ctrl-I"
   },
   "labels_anchors": false,
   "latex_user_defs": false,
   "report_style_numbering": false,
   "user_envs_cfg": false
  },
  "varInspector": {
   "cols": {
    "lenName": 16,
    "lenType": 16,
    "lenVar": 40
   },
   "kernels_config": {
    "python": {
     "delete_cmd_postfix": "",
     "delete_cmd_prefix": "del ",
     "library": "var_list.py",
     "varRefreshCmd": "print(var_dic_list())"
    },
    "r": {
     "delete_cmd_postfix": ") ",
     "delete_cmd_prefix": "rm(",
     "library": "var_list.r",
     "varRefreshCmd": "cat(var_dic_list()) "
    }
   },
   "types_to_exclude": [
    "module",
    "function",
    "builtin_function_or_method",
    "instance",
    "_Feature"
   ],
   "window_display": false
  }
 },
 "nbformat": 4,
 "nbformat_minor": 2
}
